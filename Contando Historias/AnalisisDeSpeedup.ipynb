{
 "cells": [
  {
   "cell_type": "markdown",
   "metadata": {},
   "source": [
    "## Contando historias de speedup.\n",
    "\n",
    "Cisneros Aguilar Sara Kenia"
   ]
  },
  {
   "cell_type": "code",
   "execution_count": 1,
   "metadata": {},
   "outputs": [],
   "source": [
    "columns = ['Proc', 'Time[s]']\n",
    "data = [{'Proc':1, 'Time[s]':29278},\n",
    "       {'Proc':16, 'Time[s]':178},\n",
    "       {'Proc':25, 'Time[s]':78},\n",
    "       {'Proc':64, 'Time[s]':16},\n",
    "       {'Proc':256, 'Time[s]':2},\n",
    "       {'Proc':400, 'Time[s]':1}]"
   ]
  },
  {
   "cell_type": "markdown",
   "metadata": {},
   "source": [
    "Encontramos que existe un valor atìpico, dado que si dividimos $\\frac{29278}{16} = 1829.875$ podemos ver que al momento de utilizar 16 procesadores el tiempo es menor que 1829.875s, ahora, sabemos que ese es el valor atìpico dado que los demàs valores no son tan alejados unos de otros, es asì como se le considera un valor extraño."
   ]
  },
  {
   "cell_type": "code",
   "execution_count": 2,
   "metadata": {},
   "outputs": [],
   "source": [
    "import pandas as pd\n",
    "import csv\n",
    "import matplotlib.pyplot as plt"
   ]
  },
  {
   "cell_type": "markdown",
   "metadata": {},
   "source": [
    "Creamos un archivo con formato CSV y procedemos a leerlo como un DataFrame con la ayuda de la libreria de \"Pandas\".\\\n",
    "Tomando en cuenta las listas anteriores llenaremos nuestro nuestro documento CSV, para ello primero debemos crearlo y especificar que escribiremos datos en el. En las siguientes lìneas creamos nuestro archivo $\\textit{Time.csv}$ y lo renombramos $f$ para mayor comodidad, luego decimos que escribiremos en nuestro archivo $f$ cuyos nombres de sus columnas son los valores dentro de la lista $\\textit{columns}$, posteriormente escribimos los nombres de las columnas en la cabecera de nuestro CSV, y finalmente escribimos en los renglones tomando los datos de nuestra lista $data$, utilizamos la funciòn $for$ para poder recorrer toda la informaciòn de nuestra lista y no dejar ni un solo dato fuera."
   ]
  },
  {
   "cell_type": "code",
   "execution_count": 3,
   "metadata": {},
   "outputs": [],
   "source": [
    "try:\n",
    "    with open ('Time.csv', 'w') as f:\n",
    "        w = csv.DictWriter(f, fieldnames = columns) \n",
    "        w.writeheader()\n",
    "        for x in data:\n",
    "            w.writerow(x)\n",
    "except IOError:\n",
    "    print(\"I/O error\")"
   ]
  },
  {
   "cell_type": "code",
   "execution_count": 4,
   "metadata": {},
   "outputs": [
    {
     "data": {
      "text/html": [
       "<div>\n",
       "<style scoped>\n",
       "    .dataframe tbody tr th:only-of-type {\n",
       "        vertical-align: middle;\n",
       "    }\n",
       "\n",
       "    .dataframe tbody tr th {\n",
       "        vertical-align: top;\n",
       "    }\n",
       "\n",
       "    .dataframe thead th {\n",
       "        text-align: right;\n",
       "    }\n",
       "</style>\n",
       "<table border=\"1\" class=\"dataframe\">\n",
       "  <thead>\n",
       "    <tr style=\"text-align: right;\">\n",
       "      <th></th>\n",
       "      <th>Proc</th>\n",
       "      <th>Time[s]</th>\n",
       "    </tr>\n",
       "  </thead>\n",
       "  <tbody>\n",
       "    <tr>\n",
       "      <th>0</th>\n",
       "      <td>1</td>\n",
       "      <td>29278</td>\n",
       "    </tr>\n",
       "    <tr>\n",
       "      <th>1</th>\n",
       "      <td>16</td>\n",
       "      <td>178</td>\n",
       "    </tr>\n",
       "    <tr>\n",
       "      <th>2</th>\n",
       "      <td>25</td>\n",
       "      <td>78</td>\n",
       "    </tr>\n",
       "    <tr>\n",
       "      <th>3</th>\n",
       "      <td>64</td>\n",
       "      <td>16</td>\n",
       "    </tr>\n",
       "    <tr>\n",
       "      <th>4</th>\n",
       "      <td>256</td>\n",
       "      <td>2</td>\n",
       "    </tr>\n",
       "    <tr>\n",
       "      <th>5</th>\n",
       "      <td>400</td>\n",
       "      <td>1</td>\n",
       "    </tr>\n",
       "  </tbody>\n",
       "</table>\n",
       "</div>"
      ],
      "text/plain": [
       "   Proc  Time[s]\n",
       "0     1    29278\n",
       "1    16      178\n",
       "2    25       78\n",
       "3    64       16\n",
       "4   256        2\n",
       "5   400        1"
      ]
     },
     "execution_count": 4,
     "metadata": {},
     "output_type": "execute_result"
    }
   ],
   "source": [
    "df = pd.read_csv('Time.csv', sep = ',')\n",
    "df"
   ]
  },
  {
   "cell_type": "code",
   "execution_count": 5,
   "metadata": {},
   "outputs": [
    {
     "data": {
      "image/png": "[encoded data removed]",
      "text/plain": [
       "<Figure size 432x288 with 1 Axes>"
      ]
     },
     "metadata": {
      "needs_background": "light"
     },
     "output_type": "display_data"
    }
   ],
   "source": [
    "plt.grid()\n",
    "plt.plot(df['Proc'], df['Time[s]'], 'o-', \n",
    "color = 'blue')\n",
    "plt.xlabel('Porc')\n",
    "plt.ylabel('Time[s]')\n",
    "plt.title('Proc. VS Time[s]')\n",
    "plt.show()"
   ]
  },
  {
   "cell_type": "markdown",
   "metadata": {},
   "source": [
    "Con el gràfico anterior podemos notar que el tiempo que nos tardamos haciendo alguna operaciòn disminuye considerablemente conforme aumentamos en nùmero de procesadores utilizados."
   ]
  },
  {
   "cell_type": "markdown",
   "metadata": {},
   "source": [
    "Completamos las columnas de Speeup, Efficiency y Cost, tanto para el caso absoluto como para el caso relativo con $p' = 16$ y agregamos estos datos al DataFrame anterior guientes siguiendo las siguientes formulas:\n",
    "\n",
    "Caso absoluto:\\\n",
    "Aceleraciòn: $\\frac{t_1}{t_p}$\\\n",
    "Eficiencia: $e_a = \\frac{S_p}{p}$\\\n",
    "Costo: $C_p = p * t_p$\n",
    "\n",
    "Caso relativo:\\\n",
    "Aceleraciòn relativa: $S_{p'} = \\frac{t_{p'}}{t_p}$\\\n",
    "Eficiencia relativa: $e_p' = \\frac{p' * S_{p'}}{p}$"
   ]
  },
  {
   "cell_type": "code",
   "execution_count": 6,
   "metadata": {},
   "outputs": [],
   "source": [
    "spd_abs = []\n",
    "ef_abs = []\n",
    "cst = []\n",
    "\n",
    "for i in range(0,6):\n",
    "    spd_abs.append(df.iloc[0,1]/df.iloc[i,1])\n",
    "    ef_abs.append(spd_abs[i]/df.iloc[i,0])\n",
    "    cst.append(df.iloc[i,0] * df.iloc[i,1])"
   ]
  },
  {
   "cell_type": "code",
   "execution_count": 7,
   "metadata": {},
   "outputs": [
    {
     "data": {
      "text/plain": [
       "[1.0, 164.48314606741573, 375.35897435897436, 1829.875, 14639.0, 29278.0]"
      ]
     },
     "execution_count": 7,
     "metadata": {},
     "output_type": "execute_result"
    }
   ],
   "source": [
    "spd_abs"
   ]
  },
  {
   "cell_type": "code",
   "execution_count": 8,
   "metadata": {},
   "outputs": [
    {
     "data": {
      "text/plain": [
       "[1.0,\n",
       " 10.280196629213483,\n",
       " 15.014358974358975,\n",
       " 28.591796875,\n",
       " 57.18359375,\n",
       " 73.195]"
      ]
     },
     "execution_count": 8,
     "metadata": {},
     "output_type": "execute_result"
    }
   ],
   "source": [
    "ef_abs"
   ]
  },
  {
   "cell_type": "code",
   "execution_count": 9,
   "metadata": {},
   "outputs": [
    {
     "data": {
      "text/plain": [
       "[29278, 2848, 1950, 1024, 512, 400]"
      ]
     },
     "execution_count": 9,
     "metadata": {},
     "output_type": "execute_result"
    }
   ],
   "source": [
    "cst"
   ]
  },
  {
   "cell_type": "code",
   "execution_count": 10,
   "metadata": {},
   "outputs": [],
   "source": [
    "spd_rltv = []\n",
    "ef_rltv = []\n",
    "p = 16\n",
    "\n",
    "for i in range(0,6):\n",
    "    spd_rltv.append(df.iloc[1,1]/df.iloc[i,1])\n",
    "    ef_rltv.append((p * spd_rltv[i])/df.iloc[i,0])"
   ]
  },
  {
   "cell_type": "code",
   "execution_count": 11,
   "metadata": {},
   "outputs": [
    {
     "data": {
      "text/plain": [
       "[0.006079650249333971, 1.0, 2.282051282051282, 11.125, 89.0, 178.0]"
      ]
     },
     "execution_count": 11,
     "metadata": {},
     "output_type": "execute_result"
    }
   ],
   "source": [
    "spd_rltv"
   ]
  },
  {
   "cell_type": "code",
   "execution_count": 12,
   "metadata": {},
   "outputs": [
    {
     "data": {
      "text/plain": [
       "[0.09727440398934353, 1.0, 1.4605128205128204, 2.78125, 5.5625, 7.12]"
      ]
     },
     "execution_count": 12,
     "metadata": {},
     "output_type": "execute_result"
    }
   ],
   "source": [
    "ef_rltv"
   ]
  },
  {
   "cell_type": "code",
   "execution_count": 13,
   "metadata": {},
   "outputs": [
    {
     "data": {
      "text/html": [
       "<div>\n",
       "<style scoped>\n",
       "    .dataframe tbody tr th:only-of-type {\n",
       "        vertical-align: middle;\n",
       "    }\n",
       "\n",
       "    .dataframe tbody tr th {\n",
       "        vertical-align: top;\n",
       "    }\n",
       "\n",
       "    .dataframe thead th {\n",
       "        text-align: right;\n",
       "    }\n",
       "</style>\n",
       "<table border=\"1\" class=\"dataframe\">\n",
       "  <thead>\n",
       "    <tr style=\"text-align: right;\">\n",
       "      <th></th>\n",
       "      <th>Proc</th>\n",
       "      <th>Time[s]</th>\n",
       "      <th>Speedup absoluto</th>\n",
       "      <th>Speedup relativo</th>\n",
       "      <th>Efficiency absoluto</th>\n",
       "      <th>Efficiency relativo</th>\n",
       "      <th>Cost</th>\n",
       "    </tr>\n",
       "  </thead>\n",
       "  <tbody>\n",
       "    <tr>\n",
       "      <th>0</th>\n",
       "      <td>1</td>\n",
       "      <td>29278</td>\n",
       "      <td>1.000000</td>\n",
       "      <td>0.006080</td>\n",
       "      <td>1.000000</td>\n",
       "      <td>0.097274</td>\n",
       "      <td>29278</td>\n",
       "    </tr>\n",
       "    <tr>\n",
       "      <th>1</th>\n",
       "      <td>16</td>\n",
       "      <td>178</td>\n",
       "      <td>164.483146</td>\n",
       "      <td>1.000000</td>\n",
       "      <td>10.280197</td>\n",
       "      <td>1.000000</td>\n",
       "      <td>2848</td>\n",
       "    </tr>\n",
       "    <tr>\n",
       "      <th>2</th>\n",
       "      <td>25</td>\n",
       "      <td>78</td>\n",
       "      <td>375.358974</td>\n",
       "      <td>2.282051</td>\n",
       "      <td>15.014359</td>\n",
       "      <td>1.460513</td>\n",
       "      <td>1950</td>\n",
       "    </tr>\n",
       "    <tr>\n",
       "      <th>3</th>\n",
       "      <td>64</td>\n",
       "      <td>16</td>\n",
       "      <td>1829.875000</td>\n",
       "      <td>11.125000</td>\n",
       "      <td>28.591797</td>\n",
       "      <td>2.781250</td>\n",
       "      <td>1024</td>\n",
       "    </tr>\n",
       "    <tr>\n",
       "      <th>4</th>\n",
       "      <td>256</td>\n",
       "      <td>2</td>\n",
       "      <td>14639.000000</td>\n",
       "      <td>89.000000</td>\n",
       "      <td>57.183594</td>\n",
       "      <td>5.562500</td>\n",
       "      <td>512</td>\n",
       "    </tr>\n",
       "    <tr>\n",
       "      <th>5</th>\n",
       "      <td>400</td>\n",
       "      <td>1</td>\n",
       "      <td>29278.000000</td>\n",
       "      <td>178.000000</td>\n",
       "      <td>73.195000</td>\n",
       "      <td>7.120000</td>\n",
       "      <td>400</td>\n",
       "    </tr>\n",
       "  </tbody>\n",
       "</table>\n",
       "</div>"
      ],
      "text/plain": [
       "   Proc  Time[s]  Speedup absoluto  Speedup relativo  Efficiency absoluto  \\\n",
       "0     1    29278          1.000000          0.006080             1.000000   \n",
       "1    16      178        164.483146          1.000000            10.280197   \n",
       "2    25       78        375.358974          2.282051            15.014359   \n",
       "3    64       16       1829.875000         11.125000            28.591797   \n",
       "4   256        2      14639.000000         89.000000            57.183594   \n",
       "5   400        1      29278.000000        178.000000            73.195000   \n",
       "\n",
       "   Efficiency relativo   Cost  \n",
       "0             0.097274  29278  \n",
       "1             1.000000   2848  \n",
       "2             1.460513   1950  \n",
       "3             2.781250   1024  \n",
       "4             5.562500    512  \n",
       "5             7.120000    400  "
      ]
     },
     "execution_count": 13,
     "metadata": {},
     "output_type": "execute_result"
    }
   ],
   "source": [
    "df['Speedup absoluto'] = spd_abs\n",
    "df['Speedup relativo'] = spd_rltv\n",
    "df['Efficiency absoluto'] =ef_abs\n",
    "df['Efficiency relativo'] =ef_rltv\n",
    "df['Cost'] = cst\n",
    "df"
   ]
  },
  {
   "cell_type": "markdown",
   "metadata": {},
   "source": [
    "Realizando algunos grficos:\n",
    "#### Anàlisis absoluto"
   ]
  },
  {
   "cell_type": "markdown",
   "metadata": {},
   "source": [
    "La ràpidez o Speedup es un factor de mejora del rendimiento que mide la ràpidez con wue trabaja una operaciòn con $n$ procesadores en tiempo $t$, lo que hace es comarar el tiempo que nos tardarìamos con $1$ procesador y el tiempo que nos tardarìamos con $n$ procesadores.\\\n",
    "Esta medida toma valores entre $1 \\leq S(n) \\leq n$, por lo que si el nùmero màximo de procesadores con los que contamos es $400$ esta medida no deberìa exceder este nùmero, tomando esto en cuenta podemos notar que algo extraño sucede con ayudad de la gràfica, probablemente esto se deba al valor atìpico que encontramos antes."
   ]
  },
  {
   "cell_type": "code",
   "execution_count": 14,
   "metadata": {},
   "outputs": [
    {
     "data": {
      "image/png": "[encoded data removed]",
      "text/plain": [
       "<Figure size 432x288 with 1 Axes>"
      ]
     },
     "metadata": {
      "needs_background": "light"
     },
     "output_type": "display_data"
    }
   ],
   "source": [
    "plt.grid()\n",
    "plt.plot(df['Proc'], df['Speedup absoluto'], 'o-', \n",
    "color = 'blue')\n",
    "plt.plot(df['Proc'], df['Proc'], color = 'orange')\n",
    "plt.xlabel('Porc')\n",
    "plt.ylabel('$Sp$')\n",
    "plt.legend(('DVS', 'Linear'))\n",
    "plt.title('Speedup')\n",
    "plt.show()"
   ]
  },
  {
   "cell_type": "markdown",
   "metadata": {},
   "source": [
    "La eficiencia es la capacidad de realizar o cumplir adecuadamente un afunciòn, es por ello que nos intereza saber que tan eficiente es utilizar cierta cantidad de procesadores, es cierto que nos tardamos menos tiempo entre mas tengamos, pero, ¿realmente nos conviene utilizar muchos procesadores?, por ejemplo, supongamos que compraremos una pizza, ¿a cuantas personas necesitamos para ello?, consideremos 3 personas que se ponen de acuerdo para dividir las tareas a realizar y asì poder comer pizza, la primera decide en que pizzerìa, la segunda decide los ingredientes que esta llevarà, y la tercera llamarà a la pizzerìa, suena bien, ¿no?, ahora consideremos a 10 personas, ¿se pondrìan de acuerdo de una manera ràpida?, no verdad, nos tardarìamos màs tiempo esperando a que se pongan de acuerdo que llamando nosotros mismos, no es muy eficiente.\\\n",
    "La eficiencia en este caso es una comparaciòn del grado de Sppedup conseguido frente al valor màximo, es por ello que los valores que toma son $\\frac{1}{n} \\leq E(n) \\leq 1$, ahora, en la gràfica siguiente podemos notar que este valor es mucho màs grande que $1$, claramente algo no anda bien, gracias al tiempo que tardamos con un solo procesador (nuestro valor atìpico) esta grafica nos dice, ¡revisa tus datos!."
   ]
  },
  {
   "cell_type": "code",
   "execution_count": 15,
   "metadata": {},
   "outputs": [
    {
     "data": {
      "image/png": "[encoded data removed]",
      "text/plain": [
       "<Figure size 432x288 with 1 Axes>"
      ]
     },
     "metadata": {
      "needs_background": "light"
     },
     "output_type": "display_data"
    }
   ],
   "source": [
    "plt.grid(True)\n",
    "m = [1,1,1,1,1,1]\n",
    "plt.plot(df['Proc'], df['Efficiency absoluto'], 'o-', \n",
    "color = 'blue')\n",
    "plt.plot(df['Proc'], m, color = 'orange')\n",
    "plt.xlabel('Proc')\n",
    "plt.ylabel('$Ef$')\n",
    "plt.legend(('DVS', 'Max Efficiency'))\n",
    "plt.title('Efficiency')\n",
    "plt.show()"
   ]
  },
  {
   "cell_type": "markdown",
   "metadata": {},
   "source": [
    "#### Anàlisis Relativo"
   ]
  },
  {
   "cell_type": "code",
   "execution_count": 16,
   "metadata": {},
   "outputs": [
    {
     "data": {
      "image/png": "[encoded data removed]",
      "text/plain": [
       "<Figure size 432x288 with 1 Axes>"
      ]
     },
     "metadata": {
      "needs_background": "light"
     },
     "output_type": "display_data"
    }
   ],
   "source": [
    "plt.grid()\n",
    "plt.plot(df['Proc'], df['Speedup relativo'], 'o-', \n",
    "color = 'blue')\n",
    "plt.plot(df['Proc'], df['Proc'], color = 'orange')\n",
    "plt.xlabel('Porc')\n",
    "plt.ylabel('$Sp$')\n",
    "plt.legend(('DVS', 'Linear'))\n",
    "plt.title('Speedup')\n",
    "plt.show()"
   ]
  },
  {
   "cell_type": "code",
   "execution_count": 17,
   "metadata": {},
   "outputs": [
    {
     "data": {
      "image/png": "[encoded data removed]",
      "text/plain": [
       "<Figure size 432x288 with 1 Axes>"
      ]
     },
     "metadata": {
      "needs_background": "light"
     },
     "output_type": "display_data"
    }
   ],
   "source": [
    "plt.grid(True)\n",
    "m = [1,1,1,1,1,1]\n",
    "plt.plot(df['Proc'], df['Efficiency relativo'], 'o-', \n",
    "color = 'blue')\n",
    "plt.plot(df['Proc'], m, color = 'orange')\n",
    "plt.xlabel('Proc')\n",
    "plt.ylabel('$Ef$')\n",
    "plt.legend(('DVS', 'Max Efficiency'))\n",
    "plt.title('Efficiency')\n",
    "plt.show()"
   ]
  },
  {
   "cell_type": "markdown",
   "metadata": {},
   "source": [
    "Generamos otro CSV pero ahora sustituyendo el valor atípico por $430[s]$.  Agregamos estos datos al DataDrame antes creado y realizamos los gráficos correspondientes usando Matplotlib."
   ]
  },
  {
   "cell_type": "code",
   "execution_count": 18,
   "metadata": {},
   "outputs": [
    {
     "name": "stderr",
     "output_type": "stream",
     "text": [
      "/home/kenia/anaconda3/lib/python3.7/site-packages/ipykernel_launcher.py:1: SettingWithCopyWarning: \n",
      "A value is trying to be set on a copy of a slice from a DataFrame\n",
      "\n",
      "See the caveats in the documentation: http://pandas.pydata.org/pandas-docs/stable/indexing.html#indexing-view-versus-copy\n",
      "  \"\"\"Entry point for launching an IPython kernel.\n"
     ]
    },
    {
     "data": {
      "text/html": [
       "<div>\n",
       "<style scoped>\n",
       "    .dataframe tbody tr th:only-of-type {\n",
       "        vertical-align: middle;\n",
       "    }\n",
       "\n",
       "    .dataframe tbody tr th {\n",
       "        vertical-align: top;\n",
       "    }\n",
       "\n",
       "    .dataframe thead th {\n",
       "        text-align: right;\n",
       "    }\n",
       "</style>\n",
       "<table border=\"1\" class=\"dataframe\">\n",
       "  <thead>\n",
       "    <tr style=\"text-align: right;\">\n",
       "      <th></th>\n",
       "      <th>Proc</th>\n",
       "      <th>Time[s]</th>\n",
       "      <th>Speedup absoluto</th>\n",
       "      <th>Speedup relativo</th>\n",
       "      <th>Efficiency absoluto</th>\n",
       "      <th>Efficiency relativo</th>\n",
       "      <th>Cost</th>\n",
       "    </tr>\n",
       "  </thead>\n",
       "  <tbody>\n",
       "    <tr>\n",
       "      <th>0</th>\n",
       "      <td>1</td>\n",
       "      <td>430</td>\n",
       "      <td>1.000000</td>\n",
       "      <td>0.006080</td>\n",
       "      <td>1.000000</td>\n",
       "      <td>0.097274</td>\n",
       "      <td>29278</td>\n",
       "    </tr>\n",
       "    <tr>\n",
       "      <th>1</th>\n",
       "      <td>16</td>\n",
       "      <td>178</td>\n",
       "      <td>164.483146</td>\n",
       "      <td>1.000000</td>\n",
       "      <td>10.280197</td>\n",
       "      <td>1.000000</td>\n",
       "      <td>2848</td>\n",
       "    </tr>\n",
       "    <tr>\n",
       "      <th>2</th>\n",
       "      <td>25</td>\n",
       "      <td>78</td>\n",
       "      <td>375.358974</td>\n",
       "      <td>2.282051</td>\n",
       "      <td>15.014359</td>\n",
       "      <td>1.460513</td>\n",
       "      <td>1950</td>\n",
       "    </tr>\n",
       "    <tr>\n",
       "      <th>3</th>\n",
       "      <td>64</td>\n",
       "      <td>16</td>\n",
       "      <td>1829.875000</td>\n",
       "      <td>11.125000</td>\n",
       "      <td>28.591797</td>\n",
       "      <td>2.781250</td>\n",
       "      <td>1024</td>\n",
       "    </tr>\n",
       "    <tr>\n",
       "      <th>4</th>\n",
       "      <td>256</td>\n",
       "      <td>2</td>\n",
       "      <td>14639.000000</td>\n",
       "      <td>89.000000</td>\n",
       "      <td>57.183594</td>\n",
       "      <td>5.562500</td>\n",
       "      <td>512</td>\n",
       "    </tr>\n",
       "    <tr>\n",
       "      <th>5</th>\n",
       "      <td>400</td>\n",
       "      <td>1</td>\n",
       "      <td>29278.000000</td>\n",
       "      <td>178.000000</td>\n",
       "      <td>73.195000</td>\n",
       "      <td>7.120000</td>\n",
       "      <td>400</td>\n",
       "    </tr>\n",
       "  </tbody>\n",
       "</table>\n",
       "</div>"
      ],
      "text/plain": [
       "   Proc  Time[s]  Speedup absoluto  Speedup relativo  Efficiency absoluto  \\\n",
       "0     1      430          1.000000          0.006080             1.000000   \n",
       "1    16      178        164.483146          1.000000            10.280197   \n",
       "2    25       78        375.358974          2.282051            15.014359   \n",
       "3    64       16       1829.875000         11.125000            28.591797   \n",
       "4   256        2      14639.000000         89.000000            57.183594   \n",
       "5   400        1      29278.000000        178.000000            73.195000   \n",
       "\n",
       "   Efficiency relativo   Cost  \n",
       "0             0.097274  29278  \n",
       "1             1.000000   2848  \n",
       "2             1.460513   1950  \n",
       "3             2.781250   1024  \n",
       "4             5.562500    512  \n",
       "5             7.120000    400  "
      ]
     },
     "execution_count": 18,
     "metadata": {},
     "output_type": "execute_result"
    }
   ],
   "source": [
    "df['Time[s]'][0] = 430\n",
    "df"
   ]
  },
  {
   "cell_type": "code",
   "execution_count": 19,
   "metadata": {},
   "outputs": [
    {
     "data": {
      "text/html": [
       "<div>\n",
       "<style scoped>\n",
       "    .dataframe tbody tr th:only-of-type {\n",
       "        vertical-align: middle;\n",
       "    }\n",
       "\n",
       "    .dataframe tbody tr th {\n",
       "        vertical-align: top;\n",
       "    }\n",
       "\n",
       "    .dataframe thead th {\n",
       "        text-align: right;\n",
       "    }\n",
       "</style>\n",
       "<table border=\"1\" class=\"dataframe\">\n",
       "  <thead>\n",
       "    <tr style=\"text-align: right;\">\n",
       "      <th></th>\n",
       "      <th>Proc</th>\n",
       "      <th>Time[s]</th>\n",
       "      <th>Speedup absoluto</th>\n",
       "      <th>Speedup relativo</th>\n",
       "      <th>Efficiency absoluto</th>\n",
       "      <th>Efficiency relativo</th>\n",
       "      <th>Cost</th>\n",
       "    </tr>\n",
       "  </thead>\n",
       "  <tbody>\n",
       "    <tr>\n",
       "      <th>0</th>\n",
       "      <td>1</td>\n",
       "      <td>430</td>\n",
       "      <td>1.000000</td>\n",
       "      <td>0.413953</td>\n",
       "      <td>1.000000</td>\n",
       "      <td>6.623256</td>\n",
       "      <td>430</td>\n",
       "    </tr>\n",
       "    <tr>\n",
       "      <th>1</th>\n",
       "      <td>16</td>\n",
       "      <td>178</td>\n",
       "      <td>2.415730</td>\n",
       "      <td>1.000000</td>\n",
       "      <td>0.150983</td>\n",
       "      <td>1.000000</td>\n",
       "      <td>2848</td>\n",
       "    </tr>\n",
       "    <tr>\n",
       "      <th>2</th>\n",
       "      <td>25</td>\n",
       "      <td>78</td>\n",
       "      <td>5.512821</td>\n",
       "      <td>2.282051</td>\n",
       "      <td>0.220513</td>\n",
       "      <td>1.460513</td>\n",
       "      <td>1950</td>\n",
       "    </tr>\n",
       "    <tr>\n",
       "      <th>3</th>\n",
       "      <td>64</td>\n",
       "      <td>16</td>\n",
       "      <td>26.875000</td>\n",
       "      <td>11.125000</td>\n",
       "      <td>0.419922</td>\n",
       "      <td>2.781250</td>\n",
       "      <td>1024</td>\n",
       "    </tr>\n",
       "    <tr>\n",
       "      <th>4</th>\n",
       "      <td>256</td>\n",
       "      <td>2</td>\n",
       "      <td>215.000000</td>\n",
       "      <td>89.000000</td>\n",
       "      <td>0.839844</td>\n",
       "      <td>5.562500</td>\n",
       "      <td>512</td>\n",
       "    </tr>\n",
       "    <tr>\n",
       "      <th>5</th>\n",
       "      <td>400</td>\n",
       "      <td>1</td>\n",
       "      <td>430.000000</td>\n",
       "      <td>178.000000</td>\n",
       "      <td>1.075000</td>\n",
       "      <td>7.120000</td>\n",
       "      <td>400</td>\n",
       "    </tr>\n",
       "  </tbody>\n",
       "</table>\n",
       "</div>"
      ],
      "text/plain": [
       "   Proc  Time[s]  Speedup absoluto  Speedup relativo  Efficiency absoluto  \\\n",
       "0     1      430          1.000000          0.413953             1.000000   \n",
       "1    16      178          2.415730          1.000000             0.150983   \n",
       "2    25       78          5.512821          2.282051             0.220513   \n",
       "3    64       16         26.875000         11.125000             0.419922   \n",
       "4   256        2        215.000000         89.000000             0.839844   \n",
       "5   400        1        430.000000        178.000000             1.075000   \n",
       "\n",
       "   Efficiency relativo  Cost  \n",
       "0             6.623256   430  \n",
       "1             1.000000  2848  \n",
       "2             1.460513  1950  \n",
       "3             2.781250  1024  \n",
       "4             5.562500   512  \n",
       "5             7.120000   400  "
      ]
     },
     "execution_count": 19,
     "metadata": {},
     "output_type": "execute_result"
    }
   ],
   "source": [
    "spd_abs = []\n",
    "ef_abs = []\n",
    "cst = []\n",
    "spd_rltv = []\n",
    "ef_rltv = []\n",
    "p = 16\n",
    "\n",
    "for i in range(0,6):\n",
    "    spd_abs.append(df.iloc[0,1]/df.iloc[i,1])\n",
    "    ef_abs.append(spd_abs[i]/df.iloc[i,0])\n",
    "    cst.append(df.iloc[i,0] * df.iloc[i,1])\n",
    "    spd_rltv.append(df.iloc[1,1]/df.iloc[i,1])\n",
    "    ef_rltv.append((p * spd_rltv[i])/df.iloc[i,0])\n",
    "\n",
    "df['Speedup absoluto'] = spd_abs\n",
    "df['Speedup relativo'] = spd_rltv\n",
    "df['Efficiency absoluto'] =ef_abs\n",
    "df['Efficiency relativo'] =ef_rltv\n",
    "df['Cost'] = cst\n",
    "df"
   ]
  },
  {
   "cell_type": "markdown",
   "metadata": {},
   "source": [
    "Sì ahora generamos los mismos gràficos pero sin el vlor atìpico, se tiene:\n",
    "\n",
    "#### Anàlisis Absoluto"
   ]
  },
  {
   "cell_type": "code",
   "execution_count": 20,
   "metadata": {},
   "outputs": [
    {
     "data": {
      "image/png": "[encoded data removed]",
      "text/plain": [
       "<Figure size 432x288 with 1 Axes>"
      ]
     },
     "metadata": {
      "needs_background": "light"
     },
     "output_type": "display_data"
    }
   ],
   "source": [
    "plt.grid()\n",
    "plt.plot(df['Proc'], df['Speedup absoluto'], 'o-', \n",
    "color = 'blue')\n",
    "plt.plot(df['Proc'], df['Proc'], color = 'orange')\n",
    "plt.xlabel('Porc')\n",
    "plt.ylabel('$Sp$')\n",
    "plt.legend(('DVS', 'Linear'))\n",
    "plt.title('Speedup')\n",
    "plt.show()"
   ]
  },
  {
   "cell_type": "code",
   "execution_count": 21,
   "metadata": {},
   "outputs": [
    {
     "data": {
      "image/png": "[encoded data removed]",
      "text/plain": [
       "<Figure size 432x288 with 1 Axes>"
      ]
     },
     "metadata": {
      "needs_background": "light"
     },
     "output_type": "display_data"
    }
   ],
   "source": [
    "plt.grid(True)\n",
    "m = [1,1,1,1,1,1]\n",
    "plt.plot(df['Proc'], df['Efficiency absoluto'], 'o-', \n",
    "color = 'blue')\n",
    "plt.plot(df['Proc'], m, color = 'orange')\n",
    "plt.xlabel('Proc')\n",
    "plt.ylabel('$Ef$')\n",
    "plt.legend(('DVS', 'Max Efficiency'))\n",
    "plt.title('Efficiency')\n",
    "plt.show()"
   ]
  },
  {
   "cell_type": "markdown",
   "metadata": {},
   "source": [
    "#### Anàlisis Relativo"
   ]
  },
  {
   "cell_type": "code",
   "execution_count": 22,
   "metadata": {},
   "outputs": [
    {
     "data": {
      "image/png": "[encoded data removed]",
      "text/plain": [
       "<Figure size 432x288 with 1 Axes>"
      ]
     },
     "metadata": {
      "needs_background": "light"
     },
     "output_type": "display_data"
    }
   ],
   "source": [
    "plt.grid()\n",
    "plt.plot(df['Proc'], df['Speedup relativo'], 'o-', \n",
    "color = 'blue')\n",
    "plt.plot(df['Proc'], df['Proc'], color = 'orange')\n",
    "plt.xlabel('Porc')\n",
    "plt.ylabel('$Sp$')\n",
    "plt.legend(('DVS', 'Linear'))\n",
    "plt.title('Speedup')\n",
    "plt.show()"
   ]
  },
  {
   "cell_type": "code",
   "execution_count": 23,
   "metadata": {},
   "outputs": [
    {
     "data": {
      "image/png": "[encoded data removed]",
      "text/plain": [
       "<Figure size 432x288 with 1 Axes>"
      ]
     },
     "metadata": {
      "needs_background": "light"
     },
     "output_type": "display_data"
    }
   ],
   "source": [
    "plt.grid(True)\n",
    "m = [1,1,1,1,1,1]\n",
    "plt.plot(df['Proc'], df['Efficiency relativo'], 'o-', \n",
    "color = 'blue')\n",
    "plt.plot(df['Proc'], m, color = 'orange')\n",
    "plt.xlabel('Proc')\n",
    "plt.ylabel('$Ef$')\n",
    "plt.legend(('DVS', 'Max Efficiency'))\n",
    "plt.title('Efficiency')\n",
    "plt.show()"
   ]
  }
 ],
 "metadata": {
  "kernelspec": {
   "display_name": "Python 3",
   "language": "python",
   "name": "python3"
  },
  "language_info": {
   "codemirror_mode": {
    "name": "ipython",
    "version": 3
   },
   "file_extension": ".py",
   "mimetype": "text/x-python",
   "name": "python",
   "nbconvert_exporter": "python",
   "pygments_lexer": "ipython3",
   "version": "3.7.3"
  }
 },
 "nbformat": 4,
 "nbformat_minor": 2
}
