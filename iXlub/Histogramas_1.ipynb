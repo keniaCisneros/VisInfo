{
 "cells": [
  {
   "cell_type": "code",
   "execution_count": 3,
   "metadata": {},
   "outputs": [],
   "source": [
    "import matplotlib.pyplot as plt\n",
    "class Histograma():\n",
    "    \n",
    "    \"\"\"\n",
    "    @Author: Sara Kenia Cisneros Aguilar.\n",
    "    Class Histograma: Clase que muestra histogramas de manera simple para el usuario.\n",
    "    Parameters: \n",
    "        x: datos a graficar, ya sea solo un conjunto o un conjunto de conjuntos\n",
    "        nrows: numero de renglones en una matriz de figuras\n",
    "        ncol: numero de columnas\n",
    "        titlePlot: titulo general de nuestra figura\n",
    "        titleSubPlots: titulos de nuestros subplot\n",
    "        xlabels: etiqueta de los ejes x para cada subplot\n",
    "        ylabels: etiqueta de los ejes y para cada subplot\n",
    "        colxlabels: color de las eqtiquetas de los ejes x para cada subplot\n",
    "        colylabels: color de las eqtiquetas de los ejes y para cada subplot\n",
    "        grid: muestra la cuadricula, esta inicializado en False\n",
    "    \n",
    "    Un histograma visualiza la distribución de datos en un intervalo continuo o cierto período de tiempo. \n",
    "    Cada barra en un histograma representa la frecuencia tabulada en cada intervalo / bin.\n",
    "\n",
    "    Los histogramas ayudan a dar una estimación de dónde se concentran los valores, cuáles son los extremos y si hay huecos o valores inusuales. \n",
    "    También son útiles para dar una visión aproximada de la distribución de probabilidad.\n",
    "    \"\"\"\n",
    "    \n",
    "    def __init__(self, x, nrows = 1, ncol = 1, titleSubPlots = 'Histograma', xlabels = 'Valores', ylabels = 'Frecuencias', colxlabels = 'blue', colylabels = 'blue', grid = False):\n",
    "        \"\"\"\n",
    "        Inicializada\n",
    "        \"\"\"\n",
    "        self.x = x\n",
    "        self.nrows = nrows\n",
    "        self.ncol = ncol\n",
    "        self.titleSubPlots = titleSubPlots\n",
    "        self.xlabels = xlabels\n",
    "        self.ylabels = ylabels\n",
    "        self.colxlabels = colxlabels\n",
    "        self.colylabels = colylabels\n",
    "        self.grid = grid\n",
    "       \n",
    "    def plot(self):\n",
    "        \"\"\"\n",
    "        Histograma.plot: Crea la figura y la cantidad de subplots requeridos añadiendo los titulos, labels.\n",
    "        \"\"\"\n",
    "        fig, axes = plt.subplots(self.nrows, self.ncol)\n",
    "        \n",
    "        for j,graf in enumerate(axes):\n",
    "            print(self.x[j])\n",
    "            graf.hist(self.x[j])\n",
    "            graf.set_xlabel(self.xlabels[j], color = self.colxlabels[j])\n",
    "            graf.set_ylabel(self.ylabels[j], color = self.colylabels[j])\n",
    "            graf.set_xlim((min(self.x[j]), max(self.x[j])))\n",
    "            graf.set_title(self.titleSubPlots[j])\n",
    "            graf.grid(self.grid[j])\n",
    "        plt.tight_layout()\n",
    "        fig.show()"
   ]
  },
  {
   "cell_type": "code",
   "execution_count": 4,
   "metadata": {},
   "outputs": [
    {
     "name": "stdout",
     "output_type": "stream",
     "text": [
      "[1, 1, 1, 1, 1, 1, 2, 2, 2, 2, 4, 4, 4, 6, 6, 6, 7]\n",
      "[1, 1, 1, 1, 1, 1, 2, 2, 2, 2, 4, 4, 4, 6, 6, 6, 8, 3, 3, 3, 3, 3]\n",
      "[1, 1, 1, 1, 1, 1, 2, 2, 2, 2, 4, 4, 4, 6, 6, 6, 7, 5, 5, 5, 5]\n"
     ]
    },
    {
     "name": "stderr",
     "output_type": "stream",
     "text": [
      "/home/kenia/anaconda3/lib/python3.7/site-packages/ipykernel_launcher.py:55: UserWarning: Matplotlib is currently using module://ipykernel.pylab.backend_inline, which is a non-GUI backend, so cannot show the figure.\n"
     ]
    },
    {
     "data": {
      "image/png": "[encoded data removed]",
      "text/plain": [
       "<Figure size 432x288 with 3 Axes>"
      ]
     },
     "metadata": {
      "needs_background": "light"
     },
     "output_type": "display_data"
    }
   ],
   "source": [
    "titulos = ['hist 1', 'hist 2', 'hist 3']\n",
    "\n",
    "from random import random\n",
    "import numpy as np\n",
    "\n",
    "x = [[1,1,1,1,1,1,2,2,2,2,4,4,4,6,6,6,7], \n",
    "     [1,1,1,1,1,1,2,2,2,2,4,4,4,6,6,6,8,3,3,3,3,3], \n",
    "     [1,1,1,1,1,1,2,2,2,2,4,4,4,6,6,6,7,5,5,5,5]]\n",
    "\n",
    "eje_x = ['eje x_1', 'eje x_2', 'eje x_3']\n",
    "eje_y = ['eje y_1', 'eje y_2', 'eje y_3']\n",
    "\n",
    "col_x = ['red', 'blue', 'pink']\n",
    "col_y = ['red', 'blue', 'pink']\n",
    "\n",
    "g = [False, True, True]\n",
    "\n",
    "hist = Histograma(x, nrows = 3, ncol = 1, titlePlot = 'Histogramas', titleSubPlots = titulos, xlabels = eje_x, ylabels = eje_y, colxlabels = col_x, colylabels = col_y, grid = g)\n",
    "hist.plot()"
   ]
  }
 ],
 "metadata": {
  "kernelspec": {
   "display_name": "Python 3",
   "language": "python",
   "name": "python3"
  },
  "language_info": {
   "codemirror_mode": {
    "name": "ipython",
    "version": 3
   },
   "file_extension": ".py",
   "mimetype": "text/x-python",
   "name": "python",
   "nbconvert_exporter": "python",
   "pygments_lexer": "ipython3",
   "version": "3.7.3"
  }
 },
 "nbformat": 4,
 "nbformat_minor": 2
}
