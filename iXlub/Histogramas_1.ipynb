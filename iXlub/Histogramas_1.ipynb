{
 "cells": [
  {
   "cell_type": "code",
   "execution_count": 24,
   "metadata": {},
   "outputs": [],
   "source": [
    "class Histograma():\n",
    "    \n",
    "    import matplotlib.pyplot as plt\n",
    "    \n",
    "    \"\"\"\n",
    "    @Author: Sara Kenia Cisneros Aguilar.\n",
    "    Class Histograma: Clase que muestra histogramas de manera simple para el usuario.\n",
    "    Parameters: \n",
    "        x: datos a graficar, ya sea solo un conjunto o un conjunto de conjuntos\n",
    "        nrows: numero de renglones en una matriz de figuras\n",
    "        ncol: numero de columnas\n",
    "        titlePlot: titulo general de nuestra figura\n",
    "        titleSubPlots: titulos de nuestros subplot\n",
    "        xlabels: etiqueta de los ejes x para cada subplot\n",
    "        ylabels: etiqueta de los ejes y para cada subplot\n",
    "        colxlabels: color de las eqtiquetas de los ejes x para cada subplot\n",
    "        colylabels: color de las eqtiquetas de los ejes y para cada subplot\n",
    "        grid: muestra la cuadricula, esta inicializado en False\n",
    "    \n",
    "    Un histograma visualiza la distribución de datos en un intervalo continuo o cierto período de tiempo. \n",
    "    Cada barra en un histograma representa la frecuencia tabulada en cada intervalo / bin.\n",
    "\n",
    "    Los histogramas ayudan a dar una estimación de dónde se concentran los valores, cuáles son los extremos y si hay huecos o valores inusuales. \n",
    "    También son útiles para dar una visión aproximada de la distribución de probabilidad.\n",
    "    \"\"\"\n",
    "    \n",
    "    def __init__(self, x, nrows = 1, ncol = 1, titlePlot = 'Histogramas', titleSubPlots = 'Histograma', xlabels = 'Valores', ylabels = 'Frecuencias', colxlabels = 'blue', colylabels = 'blue', grid = False):\n",
    "        \"\"\"\n",
    "        Inicializada\n",
    "        \"\"\"\n",
    "        self.x = x\n",
    "        self.nrows = nrows\n",
    "        self.ncol = ncol\n",
    "        self.titlePlot = titlePlot \n",
    "        self.titleSubPlots = titleSubPlots\n",
    "        self.xlabels = xlabels\n",
    "        self.ylabels = ylabels\n",
    "        self.colxlabels = colxlabels\n",
    "        self.colylabels = colylabels\n",
    "        self.grid = grid\n",
    "       \n",
    "    def plot(self):\n",
    "        \"\"\"\n",
    "        Histograma.plot: Crea la figura y la cantidad de subplots requeridos añadiendo los titulos, labels.\n",
    "        \"\"\"\n",
    "        fig = plt.figure() \n",
    "        axes = plt.subplots(self.nrows, self.ncol)\n",
    "        fig.title(self.titlePlot)\n",
    "        for i in range(0, self.nrows):\n",
    "            for j in range(0, self.ncol):\n",
    "                axes[i,j].hist(self.x[j])\n",
    "                axes[i,j].set_xlabel(self.xlabels[j], color = self.colxlabels[j])\n",
    "                axes[i,j].set_ylabel(self.ylabels[j], color = self.colylabels[j])\n",
    "                axes[i,j].set_xlim((min(self.x[j]), max(self.x[j])))\n",
    "                axes[i,j].set_title(self.title[j])\n",
    "                axes[i,j].set_grid(self.grid)\n",
    "        self.plt.tight_layout()\n",
    "        self.fig.show()"
   ]
  },
  {
   "cell_type": "code",
   "execution_count": 66,
   "metadata": {},
   "outputs": [],
   "source": [
    "import matplotlib.pyplot as plt\n",
    "\n",
    "class Histograma_aux():\n",
    "    \n",
    "    \"\"\"\n",
    "    @Author: Sara Kenia Cisneros Aguilar.\n",
    "    Class Histograma: Clase que muestra histogramas de manera simple para el usuario.\n",
    "    Parameters: \n",
    "        x: datos a graficar, ya sea solo un conjunto o un conjunto de conjuntos\n",
    "        nrows: numero de renglones en una matriz de figuras\n",
    "        ncol: numero de columnas\n",
    "        titlePlot: titulo general de nuestra figura\n",
    "        titleSubPlots: titulos de nuestros subplot\n",
    "        xlabels: etiqueta de los ejes x para cada subplot\n",
    "        ylabels: etiqueta de los ejes y para cada subplot\n",
    "        colxlabels: color de las eqtiquetas de los ejes x para cada subplot\n",
    "        colylabels: color de las eqtiquetas de los ejes y para cada subplot\n",
    "        grid: muestra la cuadricula, esta inicializado en False\n",
    "        figsize: tamaño de la figura en pulgadas\n",
    "    \n",
    "    Un histograma visualiza la distribución de datos en un intervalo continuo o cierto período de tiempo. \n",
    "    Cada barra en un histograma representa la frecuencia tabulada en cada intervalo / bin.\n",
    "\n",
    "    Los histogramas ayudan a dar una estimación de dónde se concentran los valores, cuáles son los extremos y si hay huecos o valores inusuales. \n",
    "    También son útiles para dar una visión aproximada de la distribución de probabilidad.\n",
    "    \"\"\"\n",
    "    \n",
    "    def __init__(self, x, nrows = 1, ncol = 1, titlePlot = 'Histogramas', titleSubPlots = 'Histograma', xlabels = 'Valores', ylabels = 'Frecuencias', colxlabels = 'blue', colylabels = 'blue', grid = False, figsize = (4,4)):\n",
    "        \"\"\"\n",
    "        Inicializada\n",
    "        \"\"\"\n",
    "        self.x = x\n",
    "        self.nrows = nrows\n",
    "        self.ncol = ncol\n",
    "        self.titlePlot = titlePlot \n",
    "        self.titleSubPlots = titleSubPlots\n",
    "        self.xlabels = xlabels\n",
    "        self.ylabels = ylabels\n",
    "        self.colxlabels = colxlabels\n",
    "        self.colylabels = colylabels\n",
    "        self.grid = grid\n",
    "        self.figsize = figsize \n",
    "       \n",
    "    def plot(self):\n",
    "        \"\"\"\n",
    "        Histograma.plot: Crea la figura y la cantidad de subplots requeridos añadiendo los titulos, labels.\n",
    "        \"\"\"\n",
    "        fig = plt.figure()\n",
    "        axes = plt.subplots(nrows = self.nrows, ncols = self.ncol)\n",
    "        #fig.title(self.titlePlot)\n",
    "        for i in range(self.nrows * self.ncol):\n",
    "            plt.subplot(self.nrows, self.ncol, i + 1)\n",
    "            plt.hist(self.x[i])\n",
    "            plt.xlabel(self.xlabels[i], color = self.colxlabels[i])\n",
    "            plt.ylabel(self.ylabels[i], color = self.colylabels[i])\n",
    "            plt.xlim((min(self.x[i]), max(self.x[i])))\n",
    "            plt.title(self.title[i])\n",
    "            plt.grid(self.grid)\n",
    "        self.fig.tight_layout(pad=0.4, w_pad=0.5, h_pad=1.0)\n",
    "        self.fig.show()"
   ]
  },
  {
   "cell_type": "code",
   "execution_count": 67,
   "metadata": {},
   "outputs": [],
   "source": [
    "from random import random\n",
    "import numpy as np\n",
    "\n",
    "x = [[np.random.randn(1000)], \n",
    "     [np.random.randn(1000)], \n",
    "     [np.random.randn(1000)]]"
   ]
  },
  {
   "cell_type": "code",
   "execution_count": 68,
   "metadata": {},
   "outputs": [
    {
     "ename": "ValueError",
     "evalue": "The truth value of an array with more than one element is ambiguous. Use a.any() or a.all()",
     "output_type": "error",
     "traceback": [
      "\u001b[0;31m---------------------------------------------------------------------------\u001b[0m",
      "\u001b[0;31mValueError\u001b[0m                                Traceback (most recent call last)",
      "\u001b[0;32m<ipython-input-68-ad4a42ee6aae>\u001b[0m in \u001b[0;36m<module>\u001b[0;34m\u001b[0m\n\u001b[1;32m     10\u001b[0m \u001b[0;34m\u001b[0m\u001b[0m\n\u001b[1;32m     11\u001b[0m \u001b[0mhist\u001b[0m \u001b[0;34m=\u001b[0m \u001b[0mHistograma_aux\u001b[0m\u001b[0;34m(\u001b[0m\u001b[0mx\u001b[0m\u001b[0;34m,\u001b[0m \u001b[0mnrows\u001b[0m \u001b[0;34m=\u001b[0m \u001b[0;36m1\u001b[0m\u001b[0;34m,\u001b[0m \u001b[0mncol\u001b[0m \u001b[0;34m=\u001b[0m \u001b[0;36m3\u001b[0m\u001b[0;34m,\u001b[0m \u001b[0mtitlePlot\u001b[0m \u001b[0;34m=\u001b[0m \u001b[0;34m'Histogramas'\u001b[0m\u001b[0;34m,\u001b[0m \u001b[0mtitleSubPlots\u001b[0m \u001b[0;34m=\u001b[0m \u001b[0mtitulos\u001b[0m\u001b[0;34m,\u001b[0m \u001b[0mxlabels\u001b[0m \u001b[0;34m=\u001b[0m \u001b[0meje_x\u001b[0m\u001b[0;34m,\u001b[0m \u001b[0mylabels\u001b[0m \u001b[0;34m=\u001b[0m \u001b[0meje_y\u001b[0m\u001b[0;34m,\u001b[0m \u001b[0mcolxlabels\u001b[0m \u001b[0;34m=\u001b[0m \u001b[0mcol_x\u001b[0m\u001b[0;34m,\u001b[0m \u001b[0mcolylabels\u001b[0m \u001b[0;34m=\u001b[0m \u001b[0mcol_y\u001b[0m\u001b[0;34m,\u001b[0m \u001b[0mgrid\u001b[0m \u001b[0;34m=\u001b[0m \u001b[0mg\u001b[0m\u001b[0;34m)\u001b[0m\u001b[0;34m\u001b[0m\u001b[0;34m\u001b[0m\u001b[0m\n\u001b[0;32m---> 12\u001b[0;31m \u001b[0mhist\u001b[0m\u001b[0;34m.\u001b[0m\u001b[0mplot\u001b[0m\u001b[0;34m(\u001b[0m\u001b[0;34m)\u001b[0m\u001b[0;34m\u001b[0m\u001b[0;34m\u001b[0m\u001b[0m\n\u001b[0m",
      "\u001b[0;32m<ipython-input-66-84514892d34b>\u001b[0m in \u001b[0;36mplot\u001b[0;34m(self)\u001b[0m\n\u001b[1;32m     54\u001b[0m             \u001b[0mplt\u001b[0m\u001b[0;34m.\u001b[0m\u001b[0mxlabel\u001b[0m\u001b[0;34m(\u001b[0m\u001b[0mself\u001b[0m\u001b[0;34m.\u001b[0m\u001b[0mxlabels\u001b[0m\u001b[0;34m[\u001b[0m\u001b[0mi\u001b[0m\u001b[0;34m]\u001b[0m\u001b[0;34m,\u001b[0m \u001b[0mcolor\u001b[0m \u001b[0;34m=\u001b[0m \u001b[0mself\u001b[0m\u001b[0;34m.\u001b[0m\u001b[0mcolxlabels\u001b[0m\u001b[0;34m[\u001b[0m\u001b[0mi\u001b[0m\u001b[0;34m]\u001b[0m\u001b[0;34m)\u001b[0m\u001b[0;34m\u001b[0m\u001b[0;34m\u001b[0m\u001b[0m\n\u001b[1;32m     55\u001b[0m             \u001b[0mplt\u001b[0m\u001b[0;34m.\u001b[0m\u001b[0mylabel\u001b[0m\u001b[0;34m(\u001b[0m\u001b[0mself\u001b[0m\u001b[0;34m.\u001b[0m\u001b[0mylabels\u001b[0m\u001b[0;34m[\u001b[0m\u001b[0mi\u001b[0m\u001b[0;34m]\u001b[0m\u001b[0;34m,\u001b[0m \u001b[0mcolor\u001b[0m \u001b[0;34m=\u001b[0m \u001b[0mself\u001b[0m\u001b[0;34m.\u001b[0m\u001b[0mcolylabels\u001b[0m\u001b[0;34m[\u001b[0m\u001b[0mi\u001b[0m\u001b[0;34m]\u001b[0m\u001b[0;34m)\u001b[0m\u001b[0;34m\u001b[0m\u001b[0;34m\u001b[0m\u001b[0m\n\u001b[0;32m---> 56\u001b[0;31m             \u001b[0mplt\u001b[0m\u001b[0;34m.\u001b[0m\u001b[0mxlim\u001b[0m\u001b[0;34m(\u001b[0m\u001b[0;34m(\u001b[0m\u001b[0mmin\u001b[0m\u001b[0;34m(\u001b[0m\u001b[0mself\u001b[0m\u001b[0;34m.\u001b[0m\u001b[0mx\u001b[0m\u001b[0;34m[\u001b[0m\u001b[0mi\u001b[0m\u001b[0;34m]\u001b[0m\u001b[0;34m)\u001b[0m\u001b[0;34m,\u001b[0m \u001b[0mmax\u001b[0m\u001b[0;34m(\u001b[0m\u001b[0mself\u001b[0m\u001b[0;34m.\u001b[0m\u001b[0mx\u001b[0m\u001b[0;34m[\u001b[0m\u001b[0mi\u001b[0m\u001b[0;34m]\u001b[0m\u001b[0;34m)\u001b[0m\u001b[0;34m)\u001b[0m\u001b[0;34m)\u001b[0m\u001b[0;34m\u001b[0m\u001b[0;34m\u001b[0m\u001b[0m\n\u001b[0m\u001b[1;32m     57\u001b[0m             \u001b[0mplt\u001b[0m\u001b[0;34m.\u001b[0m\u001b[0mtitle\u001b[0m\u001b[0;34m(\u001b[0m\u001b[0mself\u001b[0m\u001b[0;34m.\u001b[0m\u001b[0mtitle\u001b[0m\u001b[0;34m[\u001b[0m\u001b[0mi\u001b[0m\u001b[0;34m]\u001b[0m\u001b[0;34m)\u001b[0m\u001b[0;34m\u001b[0m\u001b[0;34m\u001b[0m\u001b[0m\n\u001b[1;32m     58\u001b[0m             \u001b[0mplt\u001b[0m\u001b[0;34m.\u001b[0m\u001b[0mgrid\u001b[0m\u001b[0;34m(\u001b[0m\u001b[0mself\u001b[0m\u001b[0;34m.\u001b[0m\u001b[0mgrid\u001b[0m\u001b[0;34m)\u001b[0m\u001b[0;34m\u001b[0m\u001b[0;34m\u001b[0m\u001b[0m\n",
      "\u001b[0;32m~/anaconda3/lib/python3.7/site-packages/matplotlib/pyplot.py\u001b[0m in \u001b[0;36mxlim\u001b[0;34m(*args, **kwargs)\u001b[0m\n\u001b[1;32m   1426\u001b[0m     \u001b[0;32mif\u001b[0m \u001b[0;32mnot\u001b[0m \u001b[0margs\u001b[0m \u001b[0;32mand\u001b[0m \u001b[0;32mnot\u001b[0m \u001b[0mkwargs\u001b[0m\u001b[0;34m:\u001b[0m\u001b[0;34m\u001b[0m\u001b[0;34m\u001b[0m\u001b[0m\n\u001b[1;32m   1427\u001b[0m         \u001b[0;32mreturn\u001b[0m \u001b[0max\u001b[0m\u001b[0;34m.\u001b[0m\u001b[0mget_xlim\u001b[0m\u001b[0;34m(\u001b[0m\u001b[0;34m)\u001b[0m\u001b[0;34m\u001b[0m\u001b[0;34m\u001b[0m\u001b[0m\n\u001b[0;32m-> 1428\u001b[0;31m     \u001b[0mret\u001b[0m \u001b[0;34m=\u001b[0m \u001b[0max\u001b[0m\u001b[0;34m.\u001b[0m\u001b[0mset_xlim\u001b[0m\u001b[0;34m(\u001b[0m\u001b[0;34m*\u001b[0m\u001b[0margs\u001b[0m\u001b[0;34m,\u001b[0m \u001b[0;34m**\u001b[0m\u001b[0mkwargs\u001b[0m\u001b[0;34m)\u001b[0m\u001b[0;34m\u001b[0m\u001b[0;34m\u001b[0m\u001b[0m\n\u001b[0m\u001b[1;32m   1429\u001b[0m     \u001b[0;32mreturn\u001b[0m \u001b[0mret\u001b[0m\u001b[0;34m\u001b[0m\u001b[0;34m\u001b[0m\u001b[0m\n\u001b[1;32m   1430\u001b[0m \u001b[0;34m\u001b[0m\u001b[0m\n",
      "\u001b[0;32m~/anaconda3/lib/python3.7/site-packages/matplotlib/axes/_base.py\u001b[0m in \u001b[0;36mset_xlim\u001b[0;34m(self, left, right, emit, auto, xmin, xmax)\u001b[0m\n\u001b[1;32m   3259\u001b[0m                     'Invalid limit will be ignored.')\n\u001b[1;32m   3260\u001b[0m                 \u001b[0mright\u001b[0m \u001b[0;34m=\u001b[0m \u001b[0mold_right\u001b[0m\u001b[0;34m\u001b[0m\u001b[0;34m\u001b[0m\u001b[0m\n\u001b[0;32m-> 3261\u001b[0;31m         \u001b[0;32mif\u001b[0m \u001b[0mleft\u001b[0m \u001b[0;34m==\u001b[0m \u001b[0mright\u001b[0m\u001b[0;34m:\u001b[0m\u001b[0;34m\u001b[0m\u001b[0;34m\u001b[0m\u001b[0m\n\u001b[0m\u001b[1;32m   3262\u001b[0m             cbook._warn_external(\n\u001b[1;32m   3263\u001b[0m                 \u001b[0;34mf\"Attempting to set identical left == right == {left} results \"\u001b[0m\u001b[0;34m\u001b[0m\u001b[0;34m\u001b[0m\u001b[0m\n",
      "\u001b[0;31mValueError\u001b[0m: The truth value of an array with more than one element is ambiguous. Use a.any() or a.all()"
     ]
    },
    {
     "data": {
      "text/plain": [
       "<Figure size 432x288 with 0 Axes>"
      ]
     },
     "metadata": {},
     "output_type": "display_data"
    },
    {
     "data": {
      "image/png": "[encoded data removed]",
      "text/plain": [
       "<Figure size 432x288 with 3 Axes>"
      ]
     },
     "metadata": {
      "needs_background": "light"
     },
     "output_type": "display_data"
    }
   ],
   "source": [
    "titulos = ['hist 1', 'hist 2', 'hist 3']\n",
    "\n",
    "eje_x = ['eje x_1', 'eje x_2', 'eje x_3']\n",
    "eje_y = ['eje y_1', 'eje y_2', 'eje y_3']\n",
    "\n",
    "col_x = ['red', 'blue', 'pink']\n",
    "col_y = ['red', 'blue', 'pink']\n",
    "\n",
    "g = [False, True, True]\n",
    "\n",
    "hist = Histograma_aux(x, nrows = 1, ncol = 3, titlePlot = 'Histogramas', titleSubPlots = titulos, xlabels = eje_x, ylabels = eje_y, colxlabels = col_x, colylabels = col_y, grid = g)\n",
    "hist.plot()"
   ]
  },
  {
   "cell_type": "code",
   "execution_count": null,
   "metadata": {},
   "outputs": [],
   "source": []
  }
 ],
 "metadata": {
  "kernelspec": {
   "display_name": "Python 3",
   "language": "python",
   "name": "python3"
  },
  "language_info": {
   "codemirror_mode": {
    "name": "ipython",
    "version": 3
   },
   "file_extension": ".py",
   "mimetype": "text/x-python",
   "name": "python",
   "nbconvert_exporter": "python",
   "pygments_lexer": "ipython3",
   "version": "3.7.3"
  }
 },
 "nbformat": 4,
 "nbformat_minor": 2
}
